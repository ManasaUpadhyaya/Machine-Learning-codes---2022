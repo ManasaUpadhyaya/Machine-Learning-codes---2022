{
  "cells": [
    {
      "cell_type": "code",
      "execution_count": 1,
      "metadata": {
        "id": "jK_JaEpWcYur"
      },
      "outputs": [],
      "source": [
        "# Please don't change this cell.\n",
        "\n",
        "import numpy as np\n",
        "import pandas as pd\n",
        "import matplotlib.pyplot as plt\n",
        "\n",
        "import torch\n",
        "import torch.nn as nn\n",
        "import torch.nn.functional as F\n",
        "import torch.optim as optim\n",
        "\n",
        "from sklearn.preprocessing import StandardScaler\n",
        "from sklearn.decomposition import PCA"
      ]
    },
    {
      "cell_type": "markdown",
      "metadata": {
        "id": "7WCRyIR2QKV3"
      },
      "source": [
        "# Variational Autoencoder\n",
        "In this homework, we will try to implement **variational autoencoder**. Given a dataset, variational autoencoder tries to learn the distribution of the dataset itself. We will again test our model on peripheral blood mononuclear cells(PBMCs) single-cell gene expression dataset.\n",
        "\n",
        "**You may find those material useful for your implementation**: \n",
        "\n",
        "* [Tutorial on Variational Autoencoders](https://arxiv.org/abs/1606.05908)\n",
        "* [Implementing VAE using Pytorch](http://www.garethausten.com/blog/variational-autoencoders)"
      ]
    },
    {
      "cell_type": "markdown",
      "metadata": {
        "id": "HP61V5T0dz5Q"
      },
      "source": [
        "## Read in the data\n",
        "First, let's read in the PBMCs data that we will use for the training. \n",
        "\n",
        "If you're using `colab` please make sure to upload your file(include `celltypes_PBMC.txt` and `counts_PBMC.csv`) first.\n"
      ]
    },
    {
      "cell_type": "code",
      "execution_count": 2,
      "metadata": {
        "id": "mFON1_uzdMjJ"
      },
      "outputs": [],
      "source": [
        "# Please don't change this cell.\n",
        "\n",
        "expr_ctrl = pd.read_csv(\"counts_PBMC.csv\", sep = \",\", index_col = 0).values\n",
        "anno_ctrl = pd.read_csv(\"celltypes_PBMC.txt\", sep = \"\\t\", header = None)\n",
        "expr_ctrl = StandardScaler().fit_transform(expr_ctrl)\n",
        "\n",
        "# Here we first reduce the dimension with PCA to speed up the training process\n",
        "expr_ctrl = PCA(n_components = 100).fit_transform(expr_ctrl)\n",
        "expr_ctrl = torch.FloatTensor(expr_ctrl)"
      ]
    },
    {
      "cell_type": "markdown",
      "metadata": {
        "id": "IeWxNDDOScJF"
      },
      "source": [
        "Variational autoencoder assumes that for each high-dimensional data $X$, there exist low dimensional latent variable $Z$ that help generate data similar to $X$. The distribution $P(Z|X,\\theta)$ can be estimated using encoder structure. The posterior distribution $P(Z|X,\\theta)$ is assumed to be Gaussian:\n",
        "\n",
        "\\begin{equation}\n",
        "P(Z|X,\\theta) = \\mathcal{N}(f_\\mu(X,\\theta_1), f_\\sigma(X,\\theta_2)\\mathbf{I})\n",
        "\\end{equation}\n",
        "where $f_\\mu(z,\\theta_1)$ and $f_\\sigma(z,\\theta_2)$ are modeled with neural network.\n"
      ]
    },
    {
      "cell_type": "markdown",
      "metadata": {
        "id": "F2o8iL3eYOyy"
      },
      "source": [
        "## Encoder\n",
        "Now let's implement the encoder part. Here we use two three-layer fully connected neural networks to model $f_\\mu(X,\\theta_1)$ and $f_\\sigma(X,\\theta_2)$. We assume the first two layers of $f_\\mu(X,\\theta_1)$ and $f_\\sigma(X,\\theta_2)$ are shared(`self.lin1`, `self.lin2`), and the last layer is different for those two functions (`self.fc_mu` for $f_\\mu(X,\\theta_1)$ and `self.fc_logvar` for $f_\\sigma(X,\\theta_2)$). Assume the dimension of $\\mu_Z$ and $\\sigma_Z$(output of the encoder) are $2$. You can use `ReLU` as the activation function between layers. Feel free to try different dimensions for the other layers. "
      ]
    },
    {
      "cell_type": "code",
      "execution_count": 3,
      "metadata": {
        "id": "lnZpbUotsdXc"
      },
      "outputs": [],
      "source": [
        "class encoder(nn.Module):\n",
        "  def __init__(self, in_features, out_features):\n",
        "    super(encoder, self).__init__()\n",
        "    # =========================================\n",
        "    # COMPLETE THE METHOD; YOU CAN ADD MORE LINES IF YOU WANT\n",
        "    # We'd recommend you to use nn.Linear() function in pytorch.\n",
        "    # =========================================\n",
        "    h1, h2 = 75, 25\n",
        "    self.lin1 = nn.Linear(in_features, h1)\n",
        "    self.lin2 = nn.Linear(h1, h2)\n",
        "    self.fc_mu = nn.Linear(h2, out_features)\n",
        "    self.fc_logvar = nn.Linear(h2, out_features)\n",
        "\n",
        "  def forward(self, x):\n",
        "    # =========================================\n",
        "    # COMPLETE THE METHOD; YOU CAN ADD MORE LINES IF YOU WANT\n",
        "    # We'd recommend you to use F.relu() for the activation function.\n",
        "    # There should be no activation function for the output. \n",
        "    # =========================================\n",
        "    x = F.relu(self.lin1(x))\n",
        "    x = F.relu(self.lin2(x))\n",
        "    x_mu = self.fc_mu(x)\n",
        "    x_logvar = self.fc_logvar(x)\n",
        "\n",
        "    return x_mu, x_logvar"
      ]
    },
    {
      "cell_type": "markdown",
      "metadata": {
        "id": "1xNT6fFTYSyC"
      },
      "source": [
        "## Decoder\n",
        "The decoder models $P(X|Z)$. We assume that $P(X|Z) = \\mathcal{N}(f_{de}(z), \\sigma \\mathbf{I})$, and the decoder models $f_{de}(z)$ three fully connected layers, `self.lin1`, `self.lin2`, `self.lin3`. Feel free to try different dimensions for the layers, but please make sure the input dimension equals to the dimension of $Z$ and the output dimension equals to the dimension of $X$."
      ]
    },
    {
      "cell_type": "code",
      "execution_count": 4,
      "metadata": {
        "id": "GrGc-MN2tmWu"
      },
      "outputs": [],
      "source": [
        "class decoder(nn.Module):\n",
        "  def __init__(self, in_features, out_features):\n",
        "    super(decoder, self).__init__()\n",
        "    # =========================================\n",
        "    # COMPLETE THE METHOD; YOU CAN ADD MORE LINES IF YOU WANT\n",
        "    # =========================================\n",
        "    h1, h2 = 20, 80\n",
        "    self.lin1 = nn.Linear(out_features, h1)\n",
        "    self.lin2 = nn.Linear(h1, h2)\n",
        "    self.lin3 = nn.Linear(h2, in_features)\n",
        "\n",
        "  def forward(self, x):\n",
        "    # =========================================\n",
        "    # COMPLETE THE METHOD; YOU CAN ADD MORE LINES IF YOU WANT\n",
        "    # We'd recommend you to use F.relu() for the activation function.\n",
        "    # There should be no activation function for the output.     \n",
        "    # =========================================\n",
        "    x = F.relu(self.lin1(x))\n",
        "    x = F.relu(self.lin2(x))\n",
        "    x = self.lin3(x)\n",
        "    return x"
      ]
    },
    {
      "cell_type": "markdown",
      "metadata": {
        "id": "sqv34dSzcxSA"
      },
      "source": [
        "## VAE\n",
        "After implementing the encoder and decoder, let's assemble them into VAE. \n",
        "\n",
        "VAE estimates the parameters within the encoder and decoder by maximizing the expectation of log likelihood function:\n",
        "\\begin{equation}\n",
        "\\begin{aligned}\n",
        "\\hat{\\theta} &= \\arg\\max_{\\theta} \\int P(Z,\\theta)\\log P(X|Z, \\theta)dZ\\\\\n",
        "&= \\arg\\max_{\\theta} \\mathbb{E}_{Z\\sim P(Z,\\theta)}[\\log P(X|Z, \\theta)]\n",
        "\\end{aligned}\n",
        "\\end{equation}\n",
        "Instead of integrating over $P(Z,\\theta)$(which is computationally expensive), we uses $P(Z|X,\\theta)$ (**modeled by the encoder**) and **sample one point $\\hat{Z}$ from $P(Z|X,\\theta)$**, and the formula reduce to\n",
        "\\begin{equation}\n",
        "\\begin{aligned}\n",
        "\\hat{\\theta} &= \\arg\\max_{\\theta}  \\log P(X|\\hat{Z}, \\theta),\\quad\\hat{Z}\\sim P(Z|X,\\theta)\n",
        "\\end{aligned}\n",
        "\\end{equation}\n",
        "Assuming the distribution $P(X|\\hat{Z}, \\theta)$ to be Gaussian, optimizing above loss function can be reduced to minimizing mean square error between input $X$ and reconstructed $\\hat{X}$.\n",
        "\n",
        "You will need to:\n",
        "\n",
        "* **Initialize the VAE model**: Complete `__init__` function, declare encoder and decoder using the classes we defined above.\n",
        "* **Sampling process**: Complete `latent_sample` function, sample `z` from the output of encoder. VAE uses reparameterization trick for the sampling process.\n",
        "* **Loss function**: There are two parts in the loss function: one is the mse loss between input data and output result, the other is the kl divergence between $P(Z|X, \\theta)$ and $\\mathcal{N}(\\mathbf{0}, \\mathbf{I})$.\n",
        "* **forward pass**: the `forward` function in `variational_autoencoder`.\n"
      ]
    },
    {
      "cell_type": "code",
      "execution_count": 5,
      "metadata": {
        "id": "tODy3VG6gmdT"
      },
      "outputs": [],
      "source": [
        "class variational_autoencoder(nn.Module): \n",
        "  def __init__(self, in_features, latent_dims = 2):\n",
        "    super(variational_autoencoder,self).__init__()\n",
        "    # =========================================\n",
        "    # COMPLETE THE METHOD; YOU CAN ADD MORE LINES IF YOU WANT\n",
        "    # =========================================\n",
        "    # encoder\n",
        "    self.enc = encoder(in_features, latent_dims)\n",
        "    # decoder\n",
        "    self.dec = decoder(in_features, latent_dims)\n",
        "\n",
        "  def forward(self,x):\n",
        "    # =========================================\n",
        "    # COMPLETE THE METHOD; YOU CAN ADD MORE LINES IF YOU WANT\n",
        "    # =========================================\n",
        "    # encoder\n",
        "    x_mu, x_logvar = self.enc(x)\n",
        "    # latent z sampling\n",
        "    latent_z = self.latent_sample(x_mu, x_logvar)\n",
        "    # decoder\n",
        "    x = self.dec(latent_z)\n",
        "    return x, x_mu, x_logvar\n",
        "  \n",
        "  def latent_sample(self, mu, logvar):\n",
        "    # =========================================\n",
        "    # COMPLETE THE METHOD; YOU CAN ADD MORE LINES IF YOU WANT\n",
        "    # =========================================\n",
        "    # reparameterization, z = mu + std * N(0,I) \n",
        "    if self.training:\n",
        "      # z ~ N(mu, std^2I), note that std should be positive, \n",
        "      # logvar can be negative as the output of linear layer, you may consider using exponential function\n",
        "      standard_deviation = torch.exp(0.5 * logvar)\n",
        "      N = torch.randn_like(standard_deviation)\n",
        "      z = mu + standard_deviation * N\n",
        "      return z\n",
        "    # evaluation \n",
        "    else:\n",
        "      return mu\n",
        "  \n",
        "def MSE_KL(input, target, mu, logvar, beta):\n",
        "  # =========================================\n",
        "  # COMPLETE THE METHOD; YOU CAN ADD MORE LINES IF YOU WANT\n",
        "  # =========================================\n",
        "  # mse is the mean square error between input and output\n",
        "  loss = nn.MSELoss()\n",
        "  mse = loss(input, target)\n",
        "  # ks is kl-divergence loss\n",
        "  kl = -0.5 * torch.sum(1 + logvar - mu.pow(2) - logvar.exp())\n",
        "  # beta is the regularization value\n",
        "  return mse + beta * kl"
      ]
    },
    {
      "cell_type": "code",
      "execution_count": 6,
      "metadata": {
        "id": "zK0-nxhYuypz"
      },
      "outputs": [],
      "source": [
        "# Please don't change this cell.\n",
        "\n",
        "def train_model(model, optimizer, n_epochs=10, beta = 0.001):\n",
        "\n",
        "    batch_size=100\n",
        "    losses = []\n",
        "\n",
        "    # we'll train the network for 10 epochs\n",
        "    step = 0\n",
        "    for epoch in range(n_epochs):\n",
        "        # randomize the order of the data each time through\n",
        "        random_order = np.random.permutation(expr_ctrl.shape[0])\n",
        "        data_randomized = expr_ctrl[random_order]\n",
        "\n",
        "        # train the network on batches of size `batch_size`\n",
        "        for data_batch in np.array_split(data_randomized, data_randomized.shape[0] // batch_size):\n",
        "            step += 1\n",
        "\n",
        "            # update the network weights to minimize the loss\n",
        "            output, x_mu, x_logvar = model(data_batch)\n",
        "\n",
        "            # get loss\n",
        "            loss = MSE_KL(input = data_batch, target = output, mu = x_mu, logvar = x_logvar, beta = beta)\n",
        "\n",
        "            # print the loss every 100 epochs\n",
        "            if step % 100 == 0:\n",
        "                print(\"Step: {} Loss: {:.3f}\".format(step, loss.item()))\n",
        "\n",
        "            # backpropagate the loss\n",
        "            loss.backward()\n",
        "\n",
        "            # update parameters\n",
        "            optimizer.step()\n",
        "\n",
        "            # reset gradients\n",
        "            optimizer.zero_grad()\n",
        "            losses.append(loss)\n",
        "\n",
        "    return losses"
      ]
    },
    {
      "cell_type": "code",
      "execution_count": 7,
      "metadata": {
        "id": "Hd4Tw52Yvii1",
        "colab": {
          "base_uri": "https://localhost:8080/"
        },
        "outputId": "f7da3b69-e900-4721-b5da-27f3baee9ccc"
      },
      "outputs": [
        {
          "output_type": "stream",
          "name": "stdout",
          "text": [
            "Step: 100 Loss: 5.615\n",
            "Step: 200 Loss: 4.008\n",
            "Step: 300 Loss: 5.371\n",
            "Step: 400 Loss: 4.132\n",
            "Step: 500 Loss: 4.303\n",
            "Step: 600 Loss: 3.935\n",
            "Step: 700 Loss: 3.484\n",
            "Step: 800 Loss: 4.526\n",
            "Step: 900 Loss: 3.802\n",
            "Step: 1000 Loss: 3.264\n",
            "Step: 1100 Loss: 4.242\n",
            "Step: 1200 Loss: 3.622\n",
            "Step: 1300 Loss: 4.121\n",
            "Step: 1400 Loss: 4.589\n",
            "Step: 1500 Loss: 3.758\n",
            "Step: 1600 Loss: 3.157\n",
            "Step: 1700 Loss: 3.796\n",
            "Step: 1800 Loss: 4.104\n",
            "Step: 1900 Loss: 4.571\n",
            "Step: 2000 Loss: 3.577\n",
            "Step: 2100 Loss: 3.689\n",
            "Step: 2200 Loss: 4.412\n",
            "Step: 2300 Loss: 3.627\n",
            "Step: 2400 Loss: 4.453\n",
            "Step: 2500 Loss: 3.873\n",
            "Step: 2600 Loss: 3.407\n",
            "Step: 2700 Loss: 4.018\n",
            "Step: 2800 Loss: 4.076\n",
            "Step: 2900 Loss: 4.865\n",
            "Step: 3000 Loss: 3.919\n"
          ]
        }
      ],
      "source": [
        "ae = variational_autoencoder(in_features = expr_ctrl.shape[1])\n",
        "# training mode\n",
        "ae.train()\n",
        "\n",
        "# Learning rate for the optimizer is a key hyperparameter to play around with when we need to train the model.\n",
        "# Please try with different learning rate and beta(weight of kl divergence loss), find the one that is suitable for our task.\n",
        "learning_rate = 0.5\n",
        "beta = 1e-4\n",
        "optimizer = optim.SGD(ae.parameters(), lr=learning_rate)\n",
        "\n",
        "losses = train_model(ae, optimizer = optimizer, n_epochs = 100, beta = beta)"
      ]
    },
    {
      "cell_type": "code",
      "execution_count": 8,
      "metadata": {
        "id": "T4BPUKBvuqxK"
      },
      "outputs": [],
      "source": [
        "# Please don't change this cell.\n",
        "\n",
        "def plot_latent(z, anno, save = None, figsize = (10,10), axis_label = \"Latent\", **kwargs):\n",
        "    _kwargs = {\n",
        "        \"s\": 10,\n",
        "        \"alpha\": 0.9,\n",
        "    }\n",
        "    _kwargs.update(kwargs)\n",
        "\n",
        "    fig = plt.figure(figsize = figsize)\n",
        "    ax = fig.add_subplot()\n",
        "    cluster_types = set([x for x in np.unique(anno)])\n",
        "    colormap = plt.cm.get_cmap(\"tab20\", len(cluster_types))\n",
        "\n",
        "    for i, cluster_type in enumerate(cluster_types):\n",
        "        index = np.where(anno == cluster_type)[0]\n",
        "        ax.scatter(z[index,0], z[index,1], color = colormap(i), label = cluster_type, **_kwargs)\n",
        "    \n",
        "    ax.legend(loc='upper left', prop={'size': 15}, frameon = False, ncol = 1, bbox_to_anchor=(1.04, 1))\n",
        "    \n",
        "    ax.tick_params(axis = \"both\", which = \"major\", labelsize = 15)\n",
        "\n",
        "    ax.set_xlabel(axis_label + \" 1\", fontsize = 19)\n",
        "    ax.set_ylabel(axis_label + \" 2\", fontsize = 19)\n",
        "    ax.spines['right'].set_visible(False)\n",
        "    ax.spines['top'].set_visible(False)  \n",
        "    \n",
        "    if save:\n",
        "        fig.savefig(save, bbox_inches = \"tight\")\n",
        "    \n",
        "    print(save)\n",
        "\n",
        "\n",
        "\n"
      ]
    },
    {
      "cell_type": "markdown",
      "metadata": {
        "id": "3gWgh3vPVFXk"
      },
      "source": [
        "## Visualization\n",
        "After training the model, let's visualize the latent space generated by variational autoencoder. Please discuss with your group memeber about the result and answer following two questions in your paper solution: \n",
        "\n",
        "* How the visualization is different from the latent space generated by the autoencoder we implemented in the last homework? \n",
        "* What is the difference between variational autoencoder and autoencoder?  "
      ]
    },
    {
      "cell_type": "code",
      "execution_count": 9,
      "metadata": {
        "id": "iNrjkDmEuuTB",
        "colab": {
          "base_uri": "https://localhost:8080/",
          "height": 638
        },
        "outputId": "347e4964-5acc-4612-9661-2f0e484e4d12"
      },
      "outputs": [
        {
          "output_type": "stream",
          "name": "stdout",
          "text": [
            "VAE.pdf\n"
          ]
        },
        {
          "output_type": "display_data",
          "data": {
            "text/plain": [
              "<Figure size 720x720 with 1 Axes>"
            ],
            "image/png": "[encoded data removed]"
          },
          "metadata": {
            "needs_background": "light"
          }
        }
      ],
      "source": [
        "# Please don't change this cell.\n",
        "\n",
        "ae.eval()\n",
        "with torch.no_grad():\n",
        "    ae_coordinates = ae(expr_ctrl)\n",
        "    ae_coordinates = ae_coordinates[1]\n",
        "\n",
        "plot_latent(ae_coordinates, anno_ctrl, axis_label = \"Latent\", save = \"VAE.pdf\")"
      ]
    }
  ],
  "metadata": {
    "colab": {
      "collapsed_sections": [],
      "name": "hw4_2.ipynb",
      "provenance": []
    },
    "kernelspec": {
      "display_name": "Python 3",
      "name": "python3"
    },
    "language_info": {
      "codemirror_mode": {
        "name": "ipython",
        "version": 3
      },
      "file_extension": ".py",
      "mimetype": "text/x-python",
      "name": "python",
      "nbconvert_exporter": "python",
      "pygments_lexer": "ipython3",
      "version": "3.9.10"
    }
  },
  "nbformat": 4,
  "nbformat_minor": 0
}